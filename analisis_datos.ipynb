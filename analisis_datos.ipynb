{
 "cells": [
  {
   "cell_type": "markdown",
   "id": "6fba500c",
   "metadata": {},
   "source": [
    "# Analisis de datos de nuestro querido dataframe\n",
    "\n",
    "Lo primero que vamos a hacer es extraer los datos de la base a local y ponerlo en un dataframe de pandas para trabajar más comodamente con los datos"
   ]
  },
  {
   "cell_type": "code",
   "execution_count": 1,
   "id": "f1073754",
   "metadata": {},
   "outputs": [],
   "source": [
    "import LoadData\n",
    "import pandas"
   ]
  },
  {
   "cell_type": "code",
   "execution_count": 2,
   "id": "23b67912",
   "metadata": {},
   "outputs": [
    {
     "name": "stdout",
     "output_type": "stream",
     "text": [
      "Conectado a: 23.10.0.25.10\n"
     ]
    },
    {
     "name": "stderr",
     "output_type": "stream",
     "text": [
      "c:\\Users\\mipc\\Desktop\\malackathon2026\\LoadData.py:61: UserWarning: pandas only supports SQLAlchemy connectable (engine/connection) or database string URI or sqlite3 DBAPI2 connection. Other DBAPI2 objects are not tested. Please consider using SQLAlchemy.\n",
      "  df = pd.read_sql(consulta, connection, params=params or [])\n"
     ]
    }
   ],
   "source": [
    "df = LoadData.realizarConsulta(\"SELECT * FROM ENFERMEDAD\")"
   ]
  },
  {
   "cell_type": "code",
   "execution_count": null,
   "id": "5c452327",
   "metadata": {},
   "outputs": [],
   "source": [
    "def generate_comunidad_pie_chart(df, names_col, values_col, title):\n",
    "    \"\"\"\n",
    "    Generate a pie chart from a DataFrame with community percentages.\n",
    "    \n",
    "    Parameters:\n",
    "    - df: pandas DataFrame with columns for names and values\n",
    "    - names_col: column name for the categories (e.g., 'Comunidad Autónoma')\n",
    "    - values_col: column name for the values (e.g., 'Percentage')\n",
    "    - title: title of the chart\n",
    "    \n",
    "    Returns:\n",
    "    - HTML string of the pie chart for Flask template rendering\n",
    "    \"\"\"\n",
    "    import plotly.express as px\n",
    "    fig = px.pie(df, names=names_col, values=values_col, title=title)\n",
    "    return fig.to_html(full_html=False)\n"
   ]
  },
  {
   "cell_type": "code",
   "execution_count": null,
   "id": "d7df38b1",
   "metadata": {},
   "outputs": [
    {
     "name": "stdout",
     "output_type": "stream",
     "text": [
      "  Comunidad Autónoma  Percentage\n",
      "0          ANDALUCÍA       94.45\n",
      "1           LA RIOJA        5.55\n"
     ]
    }
   ],
   "source": [
    "percentages = df['Comunidad Autónoma'].value_counts(normalize=True) * 100\n",
    "\n",
    "percentages_df = percentages.reset_index()\n",
    "percentages_df.columns = ['Comunidad Autónoma', 'Percentage']\n",
    "\n",
    "percentages_df['Percentage'] = percentages_df['Percentage'].round(2)\n",
    "\n",
    "print(percentages_df)\n"
   ]
  }
 ],
 "metadata": {
  "kernelspec": {
   "display_name": "venv",
   "language": "python",
   "name": "python3"
  },
  "language_info": {
   "codemirror_mode": {
    "name": "ipython",
    "version": 3
   },
   "file_extension": ".py",
   "mimetype": "text/x-python",
   "name": "python",
   "nbconvert_exporter": "python",
   "pygments_lexer": "ipython3",
   "version": "3.12.10"
  }
 },
 "nbformat": 4,
 "nbformat_minor": 5
}
